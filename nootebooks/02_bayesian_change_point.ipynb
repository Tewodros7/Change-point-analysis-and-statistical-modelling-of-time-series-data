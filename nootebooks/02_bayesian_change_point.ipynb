{
 "cells": [
  {
   "cell_type": "markdown",
   "metadata": {},
   "source": [
    "# Bayesian Change Point Detection in Brent Oil Prices\n",
    "\n",
    "This notebook implements Task 2: Bayesian change point analysis on Brent oil prices using PyMC3.\n",
    "\n",
    "**Workflow:**\n",
    "- Data loading and preprocessing\n",
    "- EDA: Price and log returns visualization\n",
    "- Bayesian change point model (PyMC3)\n",
    "- Posterior analysis and interpretation\n",
    "\n",
    "---"
   ]
  },
  {
   "cell_type": "code",
   "execution_count": null,
   "metadata": {},
   "outputs": [],
   "source": [
    "# Imports\n",
    "import pandas as pd\n",
    "import numpy as np\n",
    "import matplotlib.pyplot as plt\n",
    "import seaborn as sns\n",
    "import pymc3 as pm\n",
    "import arviz as az\n",
    "\n",
    "# For reproducibility\n",
    "np.random.seed(42)"
   ]
  },
  {
   "cell_type": "code",
   "execution_count": null,
   "metadata": {},
   "outputs": [],
   "source": [
    "# Load Brent oil price data\n",
    "df = pd.read_csv('../data/raw/BrentOilPrices.csv')\n",
    "df.columns = [col.strip() for col in df.columns]\n",
    "date_col = [col for col in df.columns if 'date' in col.lower()][0]\n",
    "df[date_col] = pd.to_datetime(df[date_col])\n",
    "df = df.sort_values(date_col)\n",
    "df.set_index(date_col, inplace=True)\n",
    "price_col = [col for col in df.columns if 'price' in col.lower()][0]\n",
    "df = df[[price_col]].dropna()\n",
    "df.rename(columns={price_col: 'Price'}, inplace=True)\n",
    "df['LogPrice'] = np.log(df['Price'])\n",
    "df['LogReturn'] = df['LogPrice'].diff()\n",
    "df = df.dropna()\n",
    "df.head()"
   ]
  },
  {
   "cell_type": "markdown",
   "metadata": {},
   "source": [
    "## Plot raw price series\n",
    "Visualize the Brent oil price time series."
   ]
  },
  {
   "cell_type": "code",
   "execution_count": null,
   "metadata": {},
   "outputs": [],
   "source": [
    "plt.figure(figsize=(12,5))\n",
    "plt.plot(df.index, df['Price'])\n",
    "plt.title('Brent Oil Price Over Time')\n",
    "plt.xlabel('Date')\n",
    "plt.ylabel('Price (USD)')\n",
    "plt.grid(True)\n",
    "plt.show()"
   ]
  },
  {
   "cell_type": "markdown",
   "metadata": {},
   "source": [
    "## Plot log returns\n",
    "Visualize log returns to check for volatility clustering."
   ]
  },
  {
   "cell_type": "code",
   "execution_count": null,
   "metadata": {},
   "outputs": [],
   "source": [
    "plt.figure(figsize=(12,5))\n",
    "plt.plot(df.index, df['LogReturn'])\n",
    "plt.title('Log Returns of Brent Oil Price')\n",
    "plt.xlabel('Date')\n",
    "plt.ylabel('Log Return')\n",
    "plt.grid(True)\n",
    "plt.show()\n",
    "\n",
    "sns.histplot(df['LogReturn'], bins=50, kde=True)\n",
    "plt.title('Distribution of Log Returns')\n",
    "plt.show()"
   ]
  },
  {
   "cell_type": "markdown",
   "metadata": {},
   "source": [
    "## Bayesian Change Point Model (PyMC3)\n",
    "We model the log returns as coming from two normal distributions with different means, separated by an unknown change point (tau)."
   ]
  },
  {
   "cell_type": "code",
   "execution_count": null,
   "metadata": {},
   "outputs": [],
   "source": [
    "returns = df['LogReturn'].values\n",
    "n = len(returns)\n",
    "with pm.Model() as model:\n",
    "    # Prior for change point\n",
    "    tau = pm.DiscreteUniform('tau', lower=0, upper=n-1)\n",
    "    # Priors for means and stddevs\n",
    "    mu_1 = pm.Normal('mu_1', mu=np.mean(returns), sigma=2*np.std(returns))\n",
    "    mu_2 = pm.Normal('mu_2', mu=np.mean(returns), sigma=2*np.std(returns))\n",
    "    sigma_1 = pm.HalfNormal('sigma_1', sigma=np.std(returns))\n",
    "    sigma_2 = pm.HalfNormal('sigma_2', sigma=np.std(returns))\n",
    "    # Switch function\n",
    "    mu = pm.math.switch(np.arange(n) < tau, mu_1, mu_2)\n",
    "    sigma = pm.math.switch(np.arange(n) < tau, sigma_1, sigma_2)\n",
    "    # Likelihood\n",
    "    obs = pm.Normal('obs', mu=mu, sigma=sigma, observed=returns)\n",
    "    trace = pm.sample(2000, tune=1000, target_accept=0.95, return_inferencedata=True, random_seed=42)"
   ]
  },
  {
   "cell_type": "markdown",
   "metadata": {},
   "source": [
    "## Posterior Analysis and Interpretation\n",
    "Check convergence and interpret the results."
   ]
  },
  {
   "cell_type": "code",
   "execution_count": null,
   "metadata": {},
   "outputs": [],
   "source": [
    "az.summary(trace, var_names=['tau', 'mu_1', 'mu_2', 'sigma_1', 'sigma_2'])"
   ]
  },
  {
   "cell_type": "code",
   "execution_count": null,
   "metadata": {},
   "outputs": [],
   "source": [
    "az.plot_trace(trace, var_names=['tau', 'mu_1', 'mu_2'])\n",
    "plt.show()"
   ]
  },
  {
   "cell_type": "code",
   "execution_count": null,
   "metadata": {},
   "outputs": [],
   "source": [
    "# Plot posterior for tau\n",
    "tau_samples = trace.posterior['tau'].values.flatten()\n",
    "plt.figure(figsize=(10,4))\n",
    "sns.histplot(tau_samples, bins=50, kde=True)\n",
    "plt.title('Posterior Distribution of Change Point (tau)')\n",
    "plt.xlabel('Index in Time Series')\n",
    "plt.ylabel('Density')\n",
    "plt.show()\n",
    "\n",
    "# Map tau to date\n",
    "tau_mode = int(np.round(np.median(tau_samples)))\n",
    "change_date = df.index[tau_mode]\n",
    "print(f'Estimated change point date: {change_date}')"
   ]
  },
  {
   "cell_type": "code",
   "execution_count": null,
   "metadata": {},
   "outputs": [],
   "source": [
    "# Plot mean before and after\n",
    "mu_1_samples = trace.posterior['mu_1'].values.flatten()\n",
    "mu_2_samples = trace.posterior['mu_2'].values.flatten()\n",
    "plt.figure(figsize=(8,4))\n",
    "sns.kdeplot(mu_1_samples, label='mu_1 (before)')\n",
    "sns.kdeplot(mu_2_samples, label='mu_2 (after)')\n",
    "plt.title('Posterior Distributions: Mean Log Return Before/After Change Point')\n",
    "plt.xlabel('Mean Log Return')\n",
    "plt.legend()\n",
    "plt.show()\n",
    "\n",
    "prob = (mu_2_samples > mu_1_samples).mean()\n",
    "print(f'Probability mean after change > mean before: {prob:.2%}')"
   ]
  }
 ],
 "metadata": {
  "kernelspec": {
   "display_name": ".venv",
   "language": "python",
   "name": "python3"
  },
  "language_info": {
   "codemirror_mode": {
    "name": "ipython",
    "version": 3
   },
   "file_extension": ".py",
   "mimetype": "text/x-python",
   "name": "python",
   "nbconvert_exporter": "python",
   "pygments_lexer": "ipython3",
   "version": "3.12.7"
  }
 },
 "nbformat": 4,
 "nbformat_minor": 2
}
